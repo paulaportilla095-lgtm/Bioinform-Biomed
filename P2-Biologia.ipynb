{
 "cells": [
  {
   "cell_type": "markdown",
   "id": "985e6f9b",
   "metadata": {},
   "source": [
    "# PRACTICA 2\n",
    "\n",
    "### ¡Con todo lo aprendido con Python, vamos a resolver unos ejercicios de Bioinformática!\n",
    "\n",
    "#### 1.- Concatena las cadenas ATGCC y TCCG"
   ]
  },
  {
   "cell_type": "code",
   "execution_count": 1,
   "id": "c06c7b6f",
   "metadata": {},
   "outputs": [],
   "source": [
    "cadena1 = \"ATGCC\"\n",
    "cadena2 = \"TCCG\""
   ]
  },
  {
   "cell_type": "code",
   "execution_count": 3,
   "id": "b845927c",
   "metadata": {},
   "outputs": [
    {
     "name": "stdout",
     "output_type": "stream",
     "text": [
      "ATGCCTCCG\n"
     ]
    }
   ],
   "source": [
    "cadena_concatenada = cadena1 + cadena2\n",
    "print(cadena_concatenada)"
   ]
  },
  {
   "cell_type": "markdown",
   "id": "1f4b7708",
   "metadata": {},
   "source": [
    "#### 2.- ¿Cuál es la longitud de ATGCGAGT?"
   ]
  },
  {
   "cell_type": "code",
   "execution_count": 4,
   "id": "8f78cad8",
   "metadata": {},
   "outputs": [],
   "source": [
    "dna=\"ATGCGAGT\""
   ]
  },
  {
   "cell_type": "code",
   "execution_count": 5,
   "id": "ecce1da6",
   "metadata": {},
   "outputs": [
    {
     "name": "stdout",
     "output_type": "stream",
     "text": [
      "8\n"
     ]
    }
   ],
   "source": [
    "longitud_dna = len(dna)\n",
    "print(longitud_dna)"
   ]
  },
  {
   "cell_type": "markdown",
   "id": "6361c287",
   "metadata": {},
   "source": [
    "#### 3.- Con la cadena mgXDyTw, ponla en mayúsculas, luego en minúsculas. Extrae su longitud y divide la cadena por la letra \"g\""
   ]
  },
  {
   "cell_type": "code",
   "execution_count": 7,
   "id": "b69beca1",
   "metadata": {},
   "outputs": [],
   "source": [
    "cadena=\"mgXDyTw\""
   ]
  },
  {
   "cell_type": "code",
   "execution_count": 8,
   "id": "51591dca",
   "metadata": {},
   "outputs": [
    {
     "name": "stdout",
     "output_type": "stream",
     "text": [
      "MGXDYTW\n"
     ]
    }
   ],
   "source": [
    "cadena_mayusculas = cadena.upper()\n",
    "print(cadena_mayusculas)"
   ]
  },
  {
   "cell_type": "code",
   "execution_count": 9,
   "id": "b7e1e394-83b1-4b74-958e-12839d5e4b86",
   "metadata": {},
   "outputs": [
    {
     "name": "stdout",
     "output_type": "stream",
     "text": [
      "mgxdytw\n"
     ]
    }
   ],
   "source": [
    "cadena_minusculas = cadena.lower()\n",
    "print(cadena_minusculas)"
   ]
  },
  {
   "cell_type": "code",
   "execution_count": 10,
   "id": "64f580ba-fdce-4e59-bc77-4e965f956965",
   "metadata": {},
   "outputs": [
    {
     "name": "stdout",
     "output_type": "stream",
     "text": [
      "7\n"
     ]
    }
   ],
   "source": [
    "cadena_longitud = len(cadena)\n",
    "print(cadena_longitud)"
   ]
  },
  {
   "cell_type": "code",
   "execution_count": 11,
   "id": "c6e78192-03d6-4d5b-8584-e02be5c39ffe",
   "metadata": {},
   "outputs": [
    {
     "name": "stdout",
     "output_type": "stream",
     "text": [
      "['m', 'XDyTw']\n"
     ]
    }
   ],
   "source": [
    "cadena_dividida = cadena.split(\"g\")\n",
    "print(cadena_dividida)"
   ]
  },
  {
   "cell_type": "markdown",
   "id": "91c2ca9d",
   "metadata": {},
   "source": [
    "#### 4.- Con la secuencia de aminoácidos vlspadktnv, reemplaza la valina con la tirosina. Pista: usa replace()"
   ]
  },
  {
   "cell_type": "code",
   "execution_count": 12,
   "id": "a049ecdd",
   "metadata": {},
   "outputs": [],
   "source": [
    "aa = \"vlspadktnv\""
   ]
  },
  {
   "cell_type": "code",
   "execution_count": 15,
   "id": "0c464cc2",
   "metadata": {},
   "outputs": [
    {
     "name": "stdout",
     "output_type": "stream",
     "text": [
      "ylspadktny\n"
     ]
    }
   ],
   "source": [
    "secuencia_reemplazada = aa.replace(\"v\" , \"y\")\n",
    "print(secuencia_reemplazada)"
   ]
  },
  {
   "cell_type": "markdown",
   "id": "97f9ecd6",
   "metadata": {},
   "source": [
    "#### 5.- Cuenta las valinas de la secuencia original anterior."
   ]
  },
  {
   "cell_type": "code",
   "execution_count": 19,
   "id": "b4b5600f",
   "metadata": {},
   "outputs": [
    {
     "name": "stdout",
     "output_type": "stream",
     "text": [
      "2\n"
     ]
    }
   ],
   "source": [
    "secuencia_valinas = aa.count(\"v\")\n",
    "print(secuencia_valinas)"
   ]
  },
  {
   "cell_type": "markdown",
   "id": "6aac8e24",
   "metadata": {},
   "source": [
    "#### 6.- Con el diccionario siguiente imprime el valor de BisI y saca el valor de EcoRI con pop(). ¿Qué pasa con el diccionario?"
   ]
  },
  {
   "cell_type": "code",
   "execution_count": 40,
   "id": "c0c811d7",
   "metadata": {},
   "outputs": [],
   "source": [
    "enzR = {\n",
    "    'EcoRI':r'GAATTC',\n",
    "    'AvaII':r'GG(A|T)CC',\n",
    "    'BisI':r'GC[ATGC]GC'\n",
    "}"
   ]
  },
  {
   "cell_type": "code",
   "execution_count": 30,
   "id": "b620cb35-e882-4f1c-a196-6a303dc776b1",
   "metadata": {},
   "outputs": [
    {
     "name": "stdout",
     "output_type": "stream",
     "text": [
      "GC[ATGC]GC\n"
     ]
    }
   ],
   "source": [
    "valor_BisI = enzR[\"BisI\"]\n",
    "print(valor_BisI)"
   ]
  },
  {
   "cell_type": "code",
   "execution_count": 41,
   "id": "219edc20-0df6-4da2-9e9d-e9f2a356783f",
   "metadata": {},
   "outputs": [
    {
     "name": "stdout",
     "output_type": "stream",
     "text": [
      "GAATTC\n"
     ]
    }
   ],
   "source": [
    "valor_EcoRI = enzR.pop(\"EcoRI\")\n",
    "print(valor_EcoRI)"
   ]
  },
  {
   "cell_type": "code",
   "execution_count": 43,
   "id": "82fa4635-5895-483b-b3dd-f33821229ccd",
   "metadata": {},
   "outputs": [
    {
     "name": "stdout",
     "output_type": "stream",
     "text": [
      "{'AvaII': 'GG(A|T)CC', 'BisI': 'GC[ATGC]GC'}\n"
     ]
    }
   ],
   "source": [
    "print(enzR)"
   ]
  },
  {
   "cell_type": "code",
   "execution_count": 45,
   "id": "2d489362-8c59-4e9f-bf90-ef5de436e3e7",
   "metadata": {},
   "outputs": [],
   "source": [
    "#lo que sucedió fue que el código pop() sirve para sacar el valor de un elemento del diccionario, pero también para eliminar un elemento del diccionario y su valor, por eso luego de imprimir de nuevo enzR, \"EcoRI\" ya no aparece y tampoco su valor."
   ]
  },
  {
   "cell_type": "markdown",
   "id": "4646bddd",
   "metadata": {},
   "source": [
    "#### 7.- Con la secuencia y la lista siguiente, escribe un algoritmo que cuente el número de veces que aparece un elemento de la lista en la secuencia. Pista: hacer un diccionario para almacenar los resultados puede ser buena idea"
   ]
  },
  {
   "cell_type": "code",
   "execution_count": 46,
   "id": "0a701a5e",
   "metadata": {},
   "outputs": [],
   "source": [
    "dna = \"AATGATGAACGAC\" \n",
    "dinucleotides = ['AA','AT','AG','AC', \n",
    "                 'TA','TT','TG','TC', \n",
    "                 'GA','GT','GG','GC', \n",
    "                 'CA','CT','CG','CT'] "
   ]
  },
  {
   "cell_type": "code",
   "execution_count": 60,
   "id": "e7406da5-4662-4ecd-ab3c-f7bef710eb1a",
   "metadata": {},
   "outputs": [],
   "source": [
    "for dinu in dinucleotides:\n",
    "    cantidad = dna.count(dinu)\n",
    "    conteo[dinu] = cantidad"
   ]
  },
  {
   "cell_type": "code",
   "execution_count": 61,
   "id": "eadb852c-e52b-49ac-8ea8-a0aa1adf164b",
   "metadata": {},
   "outputs": [
    {
     "name": "stdout",
     "output_type": "stream",
     "text": [
      "AA: 2\n",
      "AT: 2\n",
      "AG: 0\n",
      "AC: 2\n",
      "TA: 0\n",
      "TT: 0\n",
      "TG: 2\n",
      "TC: 0\n",
      "GA: 3\n",
      "GT: 0\n",
      "GG: 0\n",
      "GC: 0\n",
      "CA: 0\n",
      "CT: 0\n",
      "CG: 1\n"
     ]
    }
   ],
   "source": [
    "for dinu, cantidad in conteo.items():\n",
    "    print(f\"{dinu}: {cantidad}\")"
   ]
  },
  {
   "cell_type": "markdown",
   "id": "a44b5e4c",
   "metadata": {},
   "source": [
    "##### ¿Cuántos counts tiene TC?"
   ]
  },
  {
   "cell_type": "code",
   "execution_count": 74,
   "id": "3003eef4",
   "metadata": {},
   "outputs": [
    {
     "name": "stdout",
     "output_type": "stream",
     "text": [
      "0\n"
     ]
    }
   ],
   "source": [
    "print(conteo.get(\"TC\"))"
   ]
  },
  {
   "cell_type": "markdown",
   "id": "70245f18",
   "metadata": {},
   "source": [
    "##### ¿Puedes imprimir los dinuleótidos que tengan counts igual a 2?"
   ]
  },
  {
   "cell_type": "code",
   "execution_count": 72,
   "id": "8c4ca480-7764-4135-b3ab-6fa32a876a59",
   "metadata": {},
   "outputs": [
    {
     "name": "stdout",
     "output_type": "stream",
     "text": [
      "AA\n",
      "AT\n",
      "AC\n",
      "TG\n"
     ]
    }
   ],
   "source": [
    "for dinu, cantidad in conteo.items():\n",
    "    if cantidad == 2:\n",
    "        print(dinu)"
   ]
  }
 ],
 "metadata": {
  "kernelspec": {
   "display_name": "Python [conda env:base] *",
   "language": "python",
   "name": "conda-base-py"
  },
  "language_info": {
   "codemirror_mode": {
    "name": "ipython",
    "version": 3
   },
   "file_extension": ".py",
   "mimetype": "text/x-python",
   "name": "python",
   "nbconvert_exporter": "python",
   "pygments_lexer": "ipython3",
   "version": "3.13.5"
  }
 },
 "nbformat": 4,
 "nbformat_minor": 5
}
