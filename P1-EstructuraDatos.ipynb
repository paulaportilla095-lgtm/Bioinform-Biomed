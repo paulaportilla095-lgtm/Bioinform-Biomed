{
 "cells": [
  {
   "cell_type": "markdown",
   "id": "57e5a4ba",
   "metadata": {},
   "source": [
    "# PRACTICA 1\n",
    "\n",
    "### Resuelve las siguientes preguntas empleando lo aprendido con las estructuras de Datos"
   ]
  },
  {
   "cell_type": "markdown",
   "id": "092831f1",
   "metadata": {},
   "source": [
    "Pon el código debajo de cada pregunta. Añade tantas celdas de código como necesites."
   ]
  },
  {
   "cell_type": "markdown",
   "id": "94b6abb8",
   "metadata": {},
   "source": [
    "#### 1.- Escribe una ecuación que emplee multiplicación, división, un exponente, suma y resta y que sea igual a 100.25. (0,25 ptos)"
   ]
  },
  {
   "cell_type": "code",
   "execution_count": 1,
   "id": "4e5e660a",
   "metadata": {},
   "outputs": [
    {
     "data": {
      "text/plain": [
       "100.25"
      ]
     },
     "execution_count": 1,
     "metadata": {},
     "output_type": "execute_result"
    }
   ],
   "source": [
    "(0.25*1/1)**1+101-1"
   ]
  },
  {
   "cell_type": "markdown",
   "id": "95ec00dc",
   "metadata": {},
   "source": [
    "#### 2.- ¿Qué harías para obtener la raíz cuadrada de 100? Busca dos formas. (0,5 ptos)"
   ]
  },
  {
   "cell_type": "code",
   "execution_count": 2,
   "id": "d1476ef0",
   "metadata": {},
   "outputs": [
    {
     "data": {
      "text/plain": [
       "10.0"
      ]
     },
     "execution_count": 2,
     "metadata": {},
     "output_type": "execute_result"
    }
   ],
   "source": [
    "100**0.5"
   ]
  },
  {
   "cell_type": "code",
   "execution_count": 3,
   "id": "042d339e-e306-453a-8dde-b5f19c687e06",
   "metadata": {},
   "outputs": [
    {
     "data": {
      "text/plain": [
       "10.0"
      ]
     },
     "execution_count": 3,
     "metadata": {},
     "output_type": "execute_result"
    }
   ],
   "source": [
    "100**(1/2)"
   ]
  },
  {
   "cell_type": "markdown",
   "id": "95232620",
   "metadata": {},
   "source": [
    "#### 3.- ¿Y el cuadrado de 100? (0,25 ptos)"
   ]
  },
  {
   "cell_type": "code",
   "execution_count": 4,
   "id": "14249667",
   "metadata": {},
   "outputs": [
    {
     "data": {
      "text/plain": [
       "10000"
      ]
     },
     "execution_count": 4,
     "metadata": {},
     "output_type": "execute_result"
    }
   ],
   "source": [
    "100**2"
   ]
  },
  {
   "cell_type": "markdown",
   "id": "7fc5bfae",
   "metadata": {},
   "source": [
    "#### 4.- Tenemos la string 'hello'. (0,5 ptos)\n",
    "#### Primero devuelve la letra 'e'\n",
    "#### Luego dale la vuelta a la string \n",
    "#### Después usa dos métodos para devolver la letra 'o'"
   ]
  },
  {
   "cell_type": "code",
   "execution_count": null,
   "id": "a6d0eb90",
   "metadata": {},
   "outputs": [],
   "source": [
    "s = 'hello'"
   ]
  },
  {
   "cell_type": "code",
   "execution_count": 10,
   "id": "a3f33800",
   "metadata": {},
   "outputs": [
    {
     "name": "stdout",
     "output_type": "stream",
     "text": [
      "e\n"
     ]
    }
   ],
   "source": [
    "s = \"Hello\"\n",
    "print(s[1])"
   ]
  },
  {
   "cell_type": "code",
   "execution_count": 9,
   "id": "e818e466-4d64-4e38-9571-4de8b1c00148",
   "metadata": {},
   "outputs": [
    {
     "data": {
      "text/plain": [
       "'olleH'"
      ]
     },
     "execution_count": 9,
     "metadata": {},
     "output_type": "execute_result"
    }
   ],
   "source": [
    "s = \"Hello\"\n",
    "s[::-1]"
   ]
  },
  {
   "cell_type": "code",
   "execution_count": 11,
   "id": "655ecf02-493d-4793-a2de-5c9f0757c117",
   "metadata": {},
   "outputs": [
    {
     "name": "stdout",
     "output_type": "stream",
     "text": [
      "o\n"
     ]
    }
   ],
   "source": [
    "s = \"Hello\"\n",
    "print(s[4])"
   ]
  },
  {
   "cell_type": "code",
   "execution_count": 59,
   "id": "1166523d-0edf-4b55-899e-fc804d2413b1",
   "metadata": {},
   "outputs": [
    {
     "name": "stdout",
     "output_type": "stream",
     "text": [
      "o\n"
     ]
    }
   ],
   "source": [
    "s = \"Hello\"\n",
    "print(s[-1])"
   ]
  },
  {
   "cell_type": "markdown",
   "id": "0febc918",
   "metadata": {},
   "source": [
    "#### 5.- Crear una lista que contenga esto [0,0,0] de dos formas distintas (0,5 ptos)"
   ]
  },
  {
   "cell_type": "code",
   "execution_count": 12,
   "id": "30981b24",
   "metadata": {},
   "outputs": [],
   "source": [
    "mi_lista = [0,0,0]"
   ]
  },
  {
   "cell_type": "code",
   "execution_count": 13,
   "id": "ada59c07-e4a4-4ad7-a77b-8b6101e4ba90",
   "metadata": {},
   "outputs": [
    {
     "data": {
      "text/plain": [
       "[0, 0, 0]"
      ]
     },
     "execution_count": 13,
     "metadata": {},
     "output_type": "execute_result"
    }
   ],
   "source": [
    "mi_lista"
   ]
  },
  {
   "cell_type": "code",
   "execution_count": 16,
   "id": "c3355158-976d-4a9c-a399-066fb81d395e",
   "metadata": {},
   "outputs": [],
   "source": [
    "mi_lista = [0*3,0*3,0*3]"
   ]
  },
  {
   "cell_type": "code",
   "execution_count": 17,
   "id": "528aa155-d3d7-458b-ad02-cf0f71beeb26",
   "metadata": {},
   "outputs": [
    {
     "data": {
      "text/plain": [
       "[0, 0, 0]"
      ]
     },
     "execution_count": 17,
     "metadata": {},
     "output_type": "execute_result"
    }
   ],
   "source": [
    "mi_lista"
   ]
  },
  {
   "cell_type": "markdown",
   "id": "80e1a951",
   "metadata": {},
   "source": [
    "#### 6.- Reasigna 'hello' en la lista a continuación para que diga 'goodbye' (1 pto)"
   ]
  },
  {
   "cell_type": "code",
   "execution_count": 28,
   "id": "20d1ebdf",
   "metadata": {},
   "outputs": [
    {
     "data": {
      "text/plain": [
       "[1, 2, [3, 4, 'goodbye']]"
      ]
     },
     "execution_count": 28,
     "metadata": {},
     "output_type": "execute_result"
    }
   ],
   "source": [
    "lista = [1,2,[3,4,'hello']]\n",
    "lista [2] [2] = \"goodbye\"\n",
    "lista"
   ]
  },
  {
   "cell_type": "markdown",
   "id": "77e38490",
   "metadata": {},
   "source": [
    "#### 7.- Ordena la siguiente lista (0,5 ptos)"
   ]
  },
  {
   "cell_type": "code",
   "execution_count": null,
   "id": "bc957d55",
   "metadata": {},
   "outputs": [],
   "source": [
    "listaSinOrdenar = [5,3,4,6,1]"
   ]
  },
  {
   "cell_type": "code",
   "execution_count": 22,
   "id": "e2c2fb65",
   "metadata": {},
   "outputs": [
    {
     "data": {
      "text/plain": [
       "[1, 3, 4, 5, 6]"
      ]
     },
     "execution_count": 22,
     "metadata": {},
     "output_type": "execute_result"
    }
   ],
   "source": [
    "lista_ordenada = [5,3,4,6,1]\n",
    "lista_ordenada.sort()\n",
    "lista_ordenada"
   ]
  },
  {
   "cell_type": "markdown",
   "id": "0cc790ac",
   "metadata": {},
   "source": [
    "#### 8.- En los siguientes diccionarios, extrae el valor de 'hello (2 ptos)"
   ]
  },
  {
   "cell_type": "code",
   "execution_count": 35,
   "id": "c390a0bb",
   "metadata": {},
   "outputs": [],
   "source": [
    "f = {'k1':{'k2':'hello'}}"
   ]
  },
  {
   "cell_type": "code",
   "execution_count": 38,
   "id": "78ce9c3e-a72e-446d-9cea-52b38171313d",
   "metadata": {},
   "outputs": [
    {
     "name": "stdout",
     "output_type": "stream",
     "text": [
      "hello\n"
     ]
    }
   ],
   "source": [
    "f = {'k1':{'k2':'hello'}}\n",
    "valor = f ['k1']['k2']\n",
    "print(valor)"
   ]
  },
  {
   "cell_type": "code",
   "execution_count": 43,
   "id": "c0244e1f",
   "metadata": {},
   "outputs": [],
   "source": [
    "d = {'key1':'hello'}"
   ]
  },
  {
   "cell_type": "code",
   "execution_count": 41,
   "id": "196ef04c",
   "metadata": {},
   "outputs": [
    {
     "name": "stdout",
     "output_type": "stream",
     "text": [
      "hello\n"
     ]
    }
   ],
   "source": [
    "d = {'key1':'hello'}\n",
    "valor = d ['key1']\n",
    "print(valor)"
   ]
  },
  {
   "cell_type": "code",
   "execution_count": 44,
   "id": "344d780b",
   "metadata": {},
   "outputs": [],
   "source": [
    "g = {'k1':[{'o1':['valor escondido',['hello']]}]}"
   ]
  },
  {
   "cell_type": "code",
   "execution_count": 49,
   "id": "e965a858",
   "metadata": {},
   "outputs": [
    {
     "name": "stdout",
     "output_type": "stream",
     "text": [
      "hello\n"
     ]
    }
   ],
   "source": [
    "g = {'k1':[{'o1':['valor escondido',['hello']]}]}\n",
    "valor = g ['k1'][0]['o1'][1][0]\n",
    "print(valor)"
   ]
  },
  {
   "cell_type": "code",
   "execution_count": 50,
   "id": "663f9ffd",
   "metadata": {},
   "outputs": [],
   "source": [
    "h = {'k1':[1,2,{'k2':['complicado',{'dificil':[1,2,['hello']]}]}]}"
   ]
  },
  {
   "cell_type": "code",
   "execution_count": 54,
   "id": "9b9d7d97",
   "metadata": {},
   "outputs": [
    {
     "name": "stdout",
     "output_type": "stream",
     "text": [
      "hello\n"
     ]
    }
   ],
   "source": [
    "h = {'k1':[1,2,{'k2':['complicado',{'dificil':[1,2,['hello']]}]}]}\n",
    "valor = h ['k1'][2]['k2'][1]['dificil'][2][0]\n",
    "print(valor)"
   ]
  },
  {
   "cell_type": "markdown",
   "id": "7692eea8",
   "metadata": {},
   "source": [
    "#### 9.- Crea una tupla (1 pto)"
   ]
  },
  {
   "cell_type": "code",
   "execution_count": 61,
   "id": "23886da1",
   "metadata": {},
   "outputs": [
    {
     "data": {
      "text/plain": [
       "(1, 2, 3, 'cuatro', 'cinco')"
      ]
     },
     "execution_count": 61,
     "metadata": {},
     "output_type": "execute_result"
    }
   ],
   "source": [
    "t=(1,2,3,'cuatro','cinco')\n",
    "t"
   ]
  },
  {
   "cell_type": "markdown",
   "id": "6231d723",
   "metadata": {},
   "source": [
    "#### 10.- Emplea los sets para encontrar los valores únicos de esta lista (0,5 ptos)"
   ]
  },
  {
   "cell_type": "code",
   "execution_count": 62,
   "id": "a7cbba3a",
   "metadata": {},
   "outputs": [],
   "source": [
    "listaDuplicada = [1,2,2,33,4,4,11,22,3,3,2]"
   ]
  },
  {
   "cell_type": "code",
   "execution_count": 65,
   "id": "71da8284",
   "metadata": {},
   "outputs": [
    {
     "name": "stdout",
     "output_type": "stream",
     "text": [
      "{1, 2, 33, 4, 3, 11, 22}\n"
     ]
    }
   ],
   "source": [
    "valoresUnicos = set(listaDuplicada)\n",
    "print(valoresUnicos)"
   ]
  },
  {
   "cell_type": "markdown",
   "id": "9b217cfc",
   "metadata": {},
   "source": [
    "#### 11.- Haz las siguientes comparaciones: (0,5 ptos)\n",
    "#### Dos mayor que tres\n",
    "#### Tres igual que 2\n",
    "#### La raíz cuadrada de cuatro no es igual a 2\n",
    "#### Se cumple si 6 es mayor que 5 y 7 menor de 8\n",
    "#### Se cumple si la longitud de _nombre_ es  que el número de elementos de _colores_ o si la longitud de _nombre_ es menor de 7."
   ]
  },
  {
   "cell_type": "code",
   "execution_count": 76,
   "id": "59b70e21",
   "metadata": {},
   "outputs": [],
   "source": [
    "# 2 mayor que 3"
   ]
  },
  {
   "cell_type": "code",
   "execution_count": 73,
   "id": "777acd73-10ad-48ee-aee3-f93323f87503",
   "metadata": {},
   "outputs": [
    {
     "data": {
      "text/plain": [
       "False"
      ]
     },
     "execution_count": 73,
     "metadata": {},
     "output_type": "execute_result"
    }
   ],
   "source": [
    "2>3"
   ]
  },
  {
   "cell_type": "code",
   "execution_count": 77,
   "id": "89985eaf",
   "metadata": {},
   "outputs": [],
   "source": [
    "# 3 igual que 2"
   ]
  },
  {
   "cell_type": "code",
   "execution_count": 75,
   "id": "3c7ba3c0-23ed-458a-a3e3-a1c73fc88324",
   "metadata": {},
   "outputs": [
    {
     "data": {
      "text/plain": [
       "False"
      ]
     },
     "execution_count": 75,
     "metadata": {},
     "output_type": "execute_result"
    }
   ],
   "source": [
    "3 == 2"
   ]
  },
  {
   "cell_type": "code",
   "execution_count": 78,
   "id": "16c4febf",
   "metadata": {},
   "outputs": [],
   "source": [
    "# raíz cuadrada de 4 no es igual a 2"
   ]
  },
  {
   "cell_type": "code",
   "execution_count": 85,
   "id": "0efbc5e6-43c0-40c8-8a3c-59127ed229d6",
   "metadata": {},
   "outputs": [
    {
     "data": {
      "text/plain": [
       "True"
      ]
     },
     "execution_count": 85,
     "metadata": {},
     "output_type": "execute_result"
    }
   ],
   "source": [
    "4**0.5 == 2"
   ]
  },
  {
   "cell_type": "code",
   "execution_count": 86,
   "id": "a2fc94c8-536b-4031-99ce-cef5ef75a9c1",
   "metadata": {},
   "outputs": [],
   "source": [
    "# 6 es mayor que 5 y 7 menor que 8"
   ]
  },
  {
   "cell_type": "code",
   "execution_count": 87,
   "id": "8e758995-0e39-463d-b322-a4d09281b560",
   "metadata": {},
   "outputs": [
    {
     "data": {
      "text/plain": [
       "True"
      ]
     },
     "execution_count": 87,
     "metadata": {},
     "output_type": "execute_result"
    }
   ],
   "source": [
    "(6>5) and (7<8)"
   ]
  },
  {
   "cell_type": "code",
   "execution_count": 88,
   "id": "e5ed7361-8611-4c1f-bebe-4f4247800baa",
   "metadata": {},
   "outputs": [],
   "source": [
    "nombre = \"Pepito\"\n",
    "colores = [\"azul\",\"rojo\",\"verde\",\"lila\",\"amarillo limón\"]"
   ]
  },
  {
   "cell_type": "code",
   "execution_count": 93,
   "id": "4cd6b6ae-4c5f-45d8-b4a6-c2e3ce677c95",
   "metadata": {},
   "outputs": [
    {
     "data": {
      "text/plain": [
       "True"
      ]
     },
     "execution_count": 93,
     "metadata": {},
     "output_type": "execute_result"
    }
   ],
   "source": [
    "len(nombre) == len (colores) or len(nombre)<7"
   ]
  },
  {
   "cell_type": "markdown",
   "id": "bc1471d1-0d87-4c9d-8a0f-e2d735f2c764",
   "metadata": {},
   "source": [
    "#### 12.- Crea un archivo mediante código que se llame _tabla-nombres.txt_ y que esté formado por 4 columnas y 4 filas con la siguiente formación (1,5 ptos):\n",
    "#### Primera columna: Nombre\n",
    "#### Segunda columna: Apellidos (2 apellidos)\n",
    "#### Tercera columna: Edad\n",
    "#### Cuarta columna: Mascotas (nombre de la mascota si tienen)\n",
    "\n",
    "#### ¿Qué pasa si abres el archivo desde Jupyter y has metido acentos? ¿Puedes solucionarlo?"
   ]
  },
  {
   "cell_type": "code",
   "execution_count": 72,
   "id": "1ce5ecc5-05c2-41ee-8080-6270258a1d88",
   "metadata": {},
   "outputs": [],
   "source": [
    "with open(\"tabla-nombres.txt\", \"w\", encoding=\"utf-8\") as f:\n",
    "    f.write(\"Nombre\\tApellidos\\tEdad\\tMascotas\\n\")\n",
    "    f.write(\"Paula\\tPortilla Yapo\\t20\\tMocca\\n\")\n",
    "    f.write(\"Isabel\\tRomero Reyes\\t65\\tCharlie\\n\")\n",
    "    f.write(\"Nathaly\\tYapo Romero\\t40\\tZeus\\n\")\n",
    "    f.write(\"Cecilia\\tMontalvo Gracia\\t65\\tChiquita\\n\")"
   ]
  },
  {
   "cell_type": "code",
   "execution_count": 68,
   "id": "1f8e0567-b7e8-4de3-a3cc-5d216dba1c6a",
   "metadata": {},
   "outputs": [
    {
     "name": "stdout",
     "output_type": "stream",
     "text": [
      "Nombre\tApellidos\tEdad\tMascotas\n",
      "Paula\tPortilla Yapo\t20\tMocca\n",
      "Isabel\tRomero Reyes\t65\tCharlie\n",
      "Nathaly\tYapo Romero\t40\tZeus\n",
      "Cecilia\tMontalvo Gracia\t65\tChiquita\n",
      "\n"
     ]
    }
   ],
   "source": [
    "with open(\"tabla-nombres.txt\", \"r\", encoding=\"utf-8\") as f:\n",
    "    contenido = f.read()\n",
    "    print(contenido)"
   ]
  },
  {
   "cell_type": "markdown",
   "id": "acfdde50-7f35-499e-b8dc-f8246dfaefb3",
   "metadata": {},
   "source": [
    "#### 13.- Crea un diccionario que contenga las siguientes parejas. Obtén el listado de keys() y guárdalo en una lista. Añade un par de elementos más y después convierte esa lista en un set (1 pto).\n",
    "\n",
    "#### Rattus = novergicus, rattus\n",
    "#### Glaucidium = brasilianum, hoskinsii, californicum, minutissimum\n",
    "#### Echinocactus = grusonii\n",
    "#### Opuntia = 1\n"
   ]
  },
  {
   "cell_type": "code",
   "execution_count": 83,
   "id": "eddca925-02e2-41d9-81e1-ae2d413e3d9e",
   "metadata": {},
   "outputs": [
    {
     "name": "stdout",
     "output_type": "stream",
     "text": [
      "{'Echinocactus', 'Glaucidium', 'Rattus', 'Canis', 'Felis', 'Opuntia'}\n"
     ]
    }
   ],
   "source": [
    "diccionario = {\n",
    "    \"Rattus\": [\"novergicus\", \"rattus\"],\n",
    "    \"Glaucidium\": [\"brasilianum\", \"hoskinsii\", \"californicum\", \"minutissimum\"],\n",
    "    \"Echinocactus\": [\"grusonii\"],\n",
    "    \"Opuntia\": [1]\n",
    "}\n",
    "lista_keys = list(diccionario.keys())\n",
    "\n",
    "diccionario[\"Canis\"] = [\"lupus\", \"familiaris\"]\n",
    "diccionario[\"Felis\"] = [\"catus\"]\n",
    "\n",
    "lista_keys = list(diccionario.keys())\n",
    "\n",
    "set_keys = set(lista_keys)\n",
    "\n",
    "print(set_keys)"
   ]
  }
 ],
 "metadata": {
  "kernelspec": {
   "display_name": "Python [conda env:base] *",
   "language": "python",
   "name": "conda-base-py"
  },
  "language_info": {
   "codemirror_mode": {
    "name": "ipython",
    "version": 3
   },
   "file_extension": ".py",
   "mimetype": "text/x-python",
   "name": "python",
   "nbconvert_exporter": "python",
   "pygments_lexer": "ipython3",
   "version": "3.13.5"
  }
 },
 "nbformat": 4,
 "nbformat_minor": 5
}
